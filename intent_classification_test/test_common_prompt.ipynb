{
 "cells": [
  {
   "cell_type": "code",
   "execution_count": null,
   "metadata": {},
   "outputs": [],
   "source": [
    "\n",
    "\n",
    "\n",
    "\n",
    "common_prompt = ChatPromptTemplate.from_messages([\n",
    "    (\"system\", \"당신은 질문에 대한 의도를 정확하게 파악할 수 있는 전문가입니다. 그리고 그 의도와 관련된 단어를 파생하는 능력도 출중합니다.\"),\n",
    "    (\"human\", \"{question}\"),\n",
    "    MessagesPlaceholder(variable_name=\"agent_scratchpad\")\n",
    "])\n",
    "\n",
    "\n",
    "\n",
    "\n",
    "\n",
    "\n",
    "common_chain = common_prompt | ChatOpenAI(model=\"gpt-3.5-turbo-0125\") | StrOutputParser()"
   ]
  }
 ],
 "metadata": {
  "language_info": {
   "name": "python"
  }
 },
 "nbformat": 4,
 "nbformat_minor": 2
}
