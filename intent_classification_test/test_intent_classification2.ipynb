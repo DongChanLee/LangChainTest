{
 "cells": [
  {
   "cell_type": "markdown",
   "metadata": {},
   "source": [
    "### 의도 분류 테스트"
   ]
  },
  {
   "cell_type": "code",
   "execution_count": 1,
   "metadata": {},
   "outputs": [
    {
     "data": {
      "text/plain": [
       "'일상 정보'"
      ]
     },
     "execution_count": 1,
     "metadata": {},
     "output_type": "execute_result"
    }
   ],
   "source": [
    "from langchain_openai import ChatOpenAI\n",
    "from langchain_core.output_parsers import StrOutputParser\n",
    "from langchain_core.prompts import PromptTemplate\n",
    "\n",
    "\n",
    "chain = (\n",
    "    PromptTemplate.from_template(\n",
    "        \"\"\"아래 사용자 질문에 대해 '동영상 콘텐츠 실행', '일상 정보', '특정 작업 수행', '기타'에 대한 질문으로 분류하세요.\n",
    "\n",
    "한 문장 이상으로 응답하지 마세요.\n",
    "\n",
    "<question>\n",
    "{question}\n",
    "</question>\n",
    "\n",
    "Classification:\"\"\"\n",
    "    )\n",
    "    | ChatOpenAI(model=\"gpt-3.5-turbo-0125\")\n",
    "    | StrOutputParser()\n",
    ")\n",
    "\n",
    "# chain.invoke({\"question\": \"Play the movie Titanic.\"})\n",
    "\n",
    "chain.invoke({\"question\": \"오늘 서울 기온은 몇 도 인가요? 섭씨온도로 알려주세요.\"})\n",
    "\n",
    "\n"
   ]
  },
  {
   "cell_type": "code",
   "execution_count": 2,
   "metadata": {},
   "outputs": [],
   "source": [
    "video_content_chain = PromptTemplate.from_template(\n",
    "    \"\"\"당신은 내장되어 있는 영상 정보를 기반으로 타이틀에 매핑된 영상을 재생할 수 있는 능력을 갖춘 에이전트입니다. \\\n",
    "실제로 영상을 재생하지는 않지만, 사용자가 특정 영화 제목을 언급하여 재생하도록 요청하는 경우 해당 제목에 대한 영상을 재생하겠다고 응답하세요. \\\n",
    "다음 질문에 대답하세요:\n",
    "\n",
    "Question: {question}\n",
    "Answer:\"\"\"\n",
    ") | ChatOpenAI(model=\"gpt-3.5-turbo-0125\")\n",
    "\n",
    "\n",
    "daily_information_chain = PromptTemplate.from_template(\n",
    "    \"\"\"당신은 일상 정보에 정통한 에이전트입니다. \\\n",
    "다음 질문에 대답하세요:\n",
    "\n",
    "Question: {question}\n",
    "Answer:\"\"\"\n",
    ") | ChatOpenAI(model=\"gpt-3.5-turbo-0125\")\n",
    "\n",
    "\n",
    "general_chain = PromptTemplate.from_template(\n",
    "    \"\"\"다음 질문에 대답하세요.:\n",
    "\n",
    "Question: {question}\n",
    "Answer:\"\"\"\n",
    ") | ChatOpenAI(model=\"gpt-3.5-turbo-0125\")"
   ]
  },
  {
   "cell_type": "code",
   "execution_count": 4,
   "metadata": {},
   "outputs": [],
   "source": [
    "def route(info):\n",
    "    if \"동영상\" in info[\"topic\"].lower():\n",
    "        return video_content_chain\n",
    "    elif \"일상 정보\" in info[\"topic\"].lower():\n",
    "        return daily_information_chain\n",
    "    else:\n",
    "        return general_chain"
   ]
  },
  {
   "cell_type": "code",
   "execution_count": 5,
   "metadata": {},
   "outputs": [],
   "source": [
    "from langchain_core.runnables import RunnableLambda\n",
    "\n",
    "full_chain = {\"topic\": chain, \"question\": lambda x: x[\"question\"]} | RunnableLambda(route)"
   ]
  },
  {
   "cell_type": "code",
   "execution_count": 6,
   "metadata": {},
   "outputs": [
    {
     "data": {
      "text/plain": [
       "AIMessage(content='예, 영화 타이타닉을 재생할 수 있습니다. 잠시만 기다려주세요. 영상을 재생합니다.', response_metadata={'token_usage': {'completion_tokens': 41, 'prompt_tokens': 163, 'total_tokens': 204}, 'model_name': 'gpt-3.5-turbo-0125', 'system_fingerprint': None, 'finish_reason': 'stop', 'logprobs': None}, id='run-7ba55cc2-d08f-43b0-a9f6-21177b73ebde-0')"
      ]
     },
     "execution_count": 6,
     "metadata": {},
     "output_type": "execute_result"
    }
   ],
   "source": [
    "full_chain.invoke({\"question\": \"영화 타이타닉 재생해줘.\"})"
   ]
  },
  {
   "cell_type": "code",
   "execution_count": 7,
   "metadata": {},
   "outputs": [
    {
     "data": {
      "text/plain": [
       "AIMessage(content='서울의 오늘 기온은 섭씨 25도이며, 오늘은 2021년 10월 14일 입니다.', response_metadata={'token_usage': {'completion_tokens': 42, 'prompt_tokens': 86, 'total_tokens': 128}, 'model_name': 'gpt-3.5-turbo-0125', 'system_fingerprint': None, 'finish_reason': 'stop', 'logprobs': None}, id='run-1da01f4f-cede-4411-b37a-6a8790c5017c-0')"
      ]
     },
     "execution_count": 7,
     "metadata": {},
     "output_type": "execute_result"
    }
   ],
   "source": [
    "full_chain.invoke({\"question\": \"오늘 서울 기온은 몇 도야? 섭씨로 대답해주고 오늘 날짜 정보도 포함해서 대답해줘.\"})"
   ]
  },
  {
   "cell_type": "code",
   "execution_count": null,
   "metadata": {},
   "outputs": [],
   "source": []
  }
 ],
 "metadata": {
  "kernelspec": {
   "display_name": "venv",
   "language": "python",
   "name": "python3"
  },
  "language_info": {
   "codemirror_mode": {
    "name": "ipython",
    "version": 3
   },
   "file_extension": ".py",
   "mimetype": "text/x-python",
   "name": "python",
   "nbconvert_exporter": "python",
   "pygments_lexer": "ipython3",
   "version": "3.9.18"
  }
 },
 "nbformat": 4,
 "nbformat_minor": 2
}
