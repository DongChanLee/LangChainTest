{
 "cells": [
  {
   "cell_type": "markdown",
   "metadata": {},
   "source": [
    "### 연속체인을 이용한 의도분류 예제"
   ]
  },
  {
   "cell_type": "code",
   "execution_count": 12,
   "metadata": {},
   "outputs": [],
   "source": [
    "from langchain_openai import ChatOpenAI\n",
    "from langchain_core.prompts import PromptTemplate, ChatPromptTemplate\n",
    "from langchain.callbacks import StreamingStdOutCallbackHandler\n",
    "\n",
    "chat = ChatOpenAI(\n",
    "    model=\"gpt-3.5-turbo-0125\", \n",
    "    temperature=0.1,\n",
    "    streaming=True,\n",
    "    callbacks=[StreamingStdOutCallbackHandler()]\n",
    ")\n"
   ]
  },
  {
   "cell_type": "code",
   "execution_count": 4,
   "metadata": {},
   "outputs": [
    {
     "name": "stderr",
     "output_type": "stream",
     "text": [
      "/Users/dc/test_Langchain/venv/lib/python3.9/site-packages/langchain_core/_api/deprecation.py:117: LangChainDeprecationWarning: The function `predict_messages` was deprecated in LangChain 0.1.7 and will be removed in 0.2.0. Use invoke instead.\n",
      "  warn_deprecated(\n"
     ]
    },
    {
     "data": {
      "text/plain": [
       "AIMessage(content='한국과 프랑스 사이의 거리는 대략 8,500km입니다. 제 이름은 랭체인 BOT이에요.', response_metadata={'token_usage': {'completion_tokens': 38, 'prompt_tokens': 60, 'total_tokens': 98}, 'model_name': 'gpt-3.5-turbo-0125', 'system_fingerprint': None, 'finish_reason': 'stop', 'logprobs': None}, id='run-fe396711-1bfe-4c44-9871-a9e83105557f-0')"
      ]
     },
     "execution_count": 4,
     "metadata": {},
     "output_type": "execute_result"
    }
   ],
   "source": [
    "template = ChatPromptTemplate.from_messages([\n",
    "    (\"system\", \"You are a geography expert. And you only reply in {language}.\"),\n",
    "    (\"ai\", \"안녕, 내 이름은 {name}!\"),\n",
    "    (\"human\", \"What is the distance between {country_a} and {country_b}. Also, what is your name?\")\n",
    "])\n",
    "\n",
    "\n",
    "prompt = template.format_messages(\n",
    "    language=\"Korean\",\n",
    "    name=\"랭체인 BOT\",\n",
    "    country_a=\"South Korea\",\n",
    "    country_b=\"France\"\n",
    ")\n",
    "\n",
    "\n",
    "# template.format_messages(\n",
    "#     language=\"Korean\",\n",
    "#     name=\"랭체인 BOT\",\n",
    "#     country_a=\"South Korea\",\n",
    "#     country_b=\"France\"\n",
    "# )\n",
    "\n",
    "\n",
    "\n",
    "chat.predict_messages(prompt)"
   ]
  },
  {
   "cell_type": "code",
   "execution_count": 6,
   "metadata": {},
   "outputs": [
    {
     "data": {
      "text/plain": [
       "['Hello', 'how', 'are', 'you']"
      ]
     },
     "execution_count": 6,
     "metadata": {},
     "output_type": "execute_result"
    }
   ],
   "source": [
    "from langchain.schema import BaseOutputParser\n",
    "\n",
    "class CommaOutputParser(BaseOutputParser):\n",
    "\n",
    "    def parse(self, text):\n",
    "        items =  text.strip().split(\",\")\n",
    "        return list(map(str.strip, items))\n",
    "    \n",
    "p = CommaOutputParser()\n",
    "\n",
    "p.parse(\"Hello, how, are, you\")"
   ]
  },
  {
   "cell_type": "code",
   "execution_count": 11,
   "metadata": {},
   "outputs": [
    {
     "data": {
      "text/plain": [
       "['italy', 'argentina', 'germany', 'france', 'brazil']"
      ]
     },
     "execution_count": 11,
     "metadata": {},
     "output_type": "execute_result"
    }
   ],
   "source": [
    "template = ChatPromptTemplate.from_messages([\n",
    "    (\"system\", \"You are a list generating machine. Everything you are asked will be answered with a comma separated list of max {max_items} in lowercase.Do NOT reply with anything else.\"),\n",
    "    (\"human\", \"{question}\"),\n",
    "])\n",
    "\n",
    "\n",
    "chain = template | chat | CommaOutputParser()\n",
    "\n",
    "chain.invoke({\n",
    "    \"max_items\": 5,\n",
    "    \"question\": \"What are the WolrdCup winners after 1980?\"\n",
    "})\n",
    "\n",
    "# prompt = template.format_messages(\n",
    "#     max_items=10,\n",
    "#     question=\"What are the colors?\"\n",
    "# )\n",
    "\n",
    "# result = chat.predict_messages(prompt)\n",
    "\n",
    "# p = CommaOutputParser()\n",
    "\n",
    "# p.parse(result.content)"
   ]
  },
  {
   "cell_type": "code",
   "execution_count": 37,
   "metadata": {},
   "outputs": [
    {
     "name": "stdout",
     "output_type": "stream",
     "text": [
      "영화1. 배우\n",
      "2. 감독\n",
      "3. 스토리\n",
      "4. 촬영\n",
      "5. 흥행"
     ]
    },
    {
     "data": {
      "text/plain": [
       "AIMessage(content='1. 배우\\n2. 감독\\n3. 스토리\\n4. 촬영\\n5. 흥행', response_metadata={'finish_reason': 'stop'}, id='run-f74e50f6-ab00-4016-8876-da3077c9eac2-0')"
      ]
     },
     "execution_count": 37,
     "metadata": {},
     "output_type": "execute_result"
    }
   ],
   "source": [
    "from langchain_openai import ChatOpenAI\n",
    "from langchain_core.prompts import PromptTemplate, ChatPromptTemplate\n",
    "from langchain.callbacks import StreamingStdOutCallbackHandler\n",
    "\n",
    "\n",
    "chat = ChatOpenAI(\n",
    "    model=\"gpt-3.5-turbo-0125\", \n",
    "    temperature=0.1,\n",
    "    streaming=True,\n",
    "    callbacks=[StreamingStdOutCallbackHandler()]\n",
    ")\n",
    "\n",
    "\n",
    "# intent_prompt = ChatPromptTemplate.from_messages([\n",
    "#     (\"system\", \"당신은 질문에 대한 의도를 정확하게 파악하여 분류하는 기능을 가진 시스템입니다. 질문이 오면 해당 질문의 맥락을 파악하여 그 의도를 대표할 수 있는 한 개의 단어로 대답해주세요.\"),\n",
    "#     (\"human\", \"{question}\"),\n",
    "# ])\n",
    "\n",
    "intent_prompt = ChatPromptTemplate.from_messages([\n",
    "    (\"system\", \"당신은 질문에 대한 의도를 정확하게 파악하여 분류한 후 후속 프로세스를 진행하는 Agent입니다. 질문이 오면 해당 질문의 맥락을 파악하고 당신이 Agent라는 부분을 고려하여 그 의도를 대표할 수 있는 한 개의 단어로 대답해주세요.\"),\n",
    "    (\"human\", \"{question}\"),\n",
    "])\n",
    "\n",
    "intent_chain = intent_prompt | chat\n",
    "\n",
    "\n",
    "# small_intent_prompt = ChatPromptTemplate.from_messages([\n",
    "#     (\"system\", \"당신은 단어의 성질을 정확하게 파악하여 카테고리를 세분화 하는 기능을 가진 시스템입니다. 단어가 주어지면 성질을 파악하여 세분화된 카테고리 정보를 리스트로 반환해주세요. 카테고리 정보는 5개 정도면 충분합니다.\"),\n",
    "#     (\"human\", \"{intent}\"),\n",
    "# ])\n",
    "\n",
    "small_intent_prompt = ChatPromptTemplate.from_messages([\n",
    "    (\"system\", \"당신은 단어에 대한 의도를 정확하게 파악할 수 있는 전문가입니다. 단어가 주어지면 이와 관련된 의도를 추론하여 관련 단어 5개를 생성해주세요.\"),\n",
    "    (\"human\", \"{intent}\"),\n",
    "])\n",
    "\n",
    "small_intent_chain = small_intent_prompt | chat \n",
    "\n",
    "\n",
    "final_chain = {\"intent\": intent_chain} | small_intent_chain\n",
    "\n",
    "final_chain.invoke({\n",
    "    \"question\": \"영화 타이타닉 틀어줘.\"\n",
    "})\n"
   ]
  },
  {
   "cell_type": "code",
   "execution_count": null,
   "metadata": {},
   "outputs": [],
   "source": []
  }
 ],
 "metadata": {
  "kernelspec": {
   "display_name": "venv",
   "language": "python",
   "name": "python3"
  },
  "language_info": {
   "codemirror_mode": {
    "name": "ipython",
    "version": 3
   },
   "file_extension": ".py",
   "mimetype": "text/x-python",
   "name": "python",
   "nbconvert_exporter": "python",
   "pygments_lexer": "ipython3",
   "version": "3.9.18"
  }
 },
 "nbformat": 4,
 "nbformat_minor": 2
}
